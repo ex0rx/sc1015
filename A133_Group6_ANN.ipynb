{
 "cells": [
  {
   "cell_type": "markdown",
   "id": "c4b600d1",
   "metadata": {},
   "source": [
    "# SC1015 A133 Group 6 - Mini Project\n",
    "\n",
    "This project is aims to accurately predict whether a patient will have stroke based on some common factors amongs stroke patients. The dataset is from Kaggle. In this notebook, you will find the complete analysis we had done for this project. <br>\n",
    "This notebook contains <br> \n",
    "- Artifical Neural Network"
   ]
  },
  {
   "cell_type": "code",
   "execution_count": 1,
   "id": "0fc899a2",
   "metadata": {},
   "outputs": [],
   "source": [
    "# Importing the necessary packages\n",
    "from sklearn import metrics\n",
    "from sklearn.ensemble import RandomForestClassifier\n",
    "from sklearn.linear_model import LinearRegression\n",
    "from sklearn.linear_model import LogisticRegression\n",
    "from sklearn.metrics import accuracy_score\n",
    "from sklearn.metrics import classification_report\n",
    "from sklearn.metrics import confusion_matrix\n",
    "from sklearn.metrics import f1_score\n",
    "from sklearn.metrics import mean_squared_error\n",
    "from sklearn.model_selection import GridSearchCV\n",
    "from sklearn.model_selection import train_test_split\n",
    "from sklearn.preprocessing import OneHotEncoder\n",
    "from sklearn.preprocessing import StandardScaler\n",
    "from sklearn import tree\n",
    "from sklearn.tree import DecisionTreeClassifier\n",
    "from sklearn.tree import plot_tree\n",
    "from sklearn.tree import plot_tree\n",
    "from sklearn.utils import resample\n",
    "from sklearn.neural_network import MLPClassifier\n",
    "import matplotlib.pyplot as plt\n",
    "import numpy as np\n",
    "import pandas as pd\n",
    "import seaborn as sb"
   ]
  },
  {
   "cell_type": "code",
   "execution_count": 2,
   "id": "000138b2",
   "metadata": {},
   "outputs": [],
   "source": [
    "np.random.seed(100)"
   ]
  },
  {
   "cell_type": "code",
   "execution_count": 3,
   "id": "ad51bcec",
   "metadata": {},
   "outputs": [
    {
     "name": "stdout",
     "output_type": "stream",
     "text": [
      "<class 'pandas.core.frame.DataFrame'>\n",
      "RangeIndex: 5110 entries, 0 to 5109\n",
      "Data columns (total 12 columns):\n",
      " #   Column             Non-Null Count  Dtype  \n",
      "---  ------             --------------  -----  \n",
      " 0   id                 5110 non-null   int64  \n",
      " 1   gender             5110 non-null   object \n",
      " 2   age                5110 non-null   float64\n",
      " 3   hypertension       5110 non-null   int64  \n",
      " 4   heart_disease      5110 non-null   int64  \n",
      " 5   ever_married       5110 non-null   object \n",
      " 6   work_type          5110 non-null   object \n",
      " 7   Residence_type     5110 non-null   object \n",
      " 8   avg_glucose_level  5110 non-null   float64\n",
      " 9   bmi                4909 non-null   float64\n",
      " 10  smoking_status     5110 non-null   object \n",
      " 11  stroke             5110 non-null   int64  \n",
      "dtypes: float64(3), int64(4), object(5)\n",
      "memory usage: 479.2+ KB\n"
     ]
    }
   ],
   "source": [
    "data = pd.read_csv('healthcare-dataset-stroke-data.csv')\n",
    "data.info()"
   ]
  },
  {
   "cell_type": "markdown",
   "id": "2fdddba9",
   "metadata": {},
   "source": [
    "# One Hot Encoding\n",
    "\n",
    "We use OneHotEncoding to encode categorical variables into its numeric values. There are 7 categorical variables that needed to be encoded."
   ]
  },
  {
   "cell_type": "code",
   "execution_count": 4,
   "id": "1478f45c",
   "metadata": {},
   "outputs": [
    {
     "name": "stdout",
     "output_type": "stream",
     "text": [
      "<class 'pandas.core.frame.DataFrame'>\n",
      "RangeIndex: 5110 entries, 0 to 5109\n",
      "Data columns (total 20 columns):\n",
      " #   Column                          Non-Null Count  Dtype  \n",
      "---  ------                          --------------  -----  \n",
      " 0   ever_married_No                 5110 non-null   float64\n",
      " 1   ever_married_Yes                5110 non-null   float64\n",
      " 2   work_type_Govt_job              5110 non-null   float64\n",
      " 3   work_type_Never_worked          5110 non-null   float64\n",
      " 4   work_type_Private               5110 non-null   float64\n",
      " 5   work_type_Self-employed         5110 non-null   float64\n",
      " 6   work_type_children              5110 non-null   float64\n",
      " 7   Residence_type_Rural            5110 non-null   float64\n",
      " 8   Residence_type_Urban            5110 non-null   float64\n",
      " 9   smoking_status_Unknown          5110 non-null   float64\n",
      " 10  smoking_status_formerly smoked  5110 non-null   float64\n",
      " 11  smoking_status_never smoked     5110 non-null   float64\n",
      " 12  smoking_status_smokes           5110 non-null   float64\n",
      " 13  gender_Female                   5110 non-null   float64\n",
      " 14  gender_Male                     5110 non-null   float64\n",
      " 15  gender_Other                    5110 non-null   float64\n",
      " 16  hypertension_0                  5110 non-null   float64\n",
      " 17  hypertension_1                  5110 non-null   float64\n",
      " 18  heart_disease_0                 5110 non-null   float64\n",
      " 19  heart_disease_1                 5110 non-null   float64\n",
      "dtypes: float64(20)\n",
      "memory usage: 798.6 KB\n"
     ]
    }
   ],
   "source": [
    "ohe = OneHotEncoder()\n",
    "\n",
    "# OneHotEncoding of categorical predictors (not the response)\n",
    "data_cat = data[['ever_married','work_type','Residence_type','smoking_status','gender','hypertension','heart_disease']]\n",
    "ohe.fit(data_cat)\n",
    "data_cat_ohe = pd.DataFrame(ohe.transform(data_cat).toarray(), \n",
    "                                  columns=ohe.get_feature_names_out(data_cat.columns))\n",
    "\n",
    "# Check the encoded variables\n",
    "data_cat_ohe.info()"
   ]
  },
  {
   "cell_type": "code",
   "execution_count": 5,
   "id": "aaea5258",
   "metadata": {},
   "outputs": [
    {
     "name": "stdout",
     "output_type": "stream",
     "text": [
      "<class 'pandas.core.frame.DataFrame'>\n",
      "RangeIndex: 5110 entries, 0 to 5109\n",
      "Data columns (total 20 columns):\n",
      " #   Column                          Non-Null Count  Dtype  \n",
      "---  ------                          --------------  -----  \n",
      " 0   ever_married_No                 5110 non-null   float64\n",
      " 1   ever_married_Yes                5110 non-null   float64\n",
      " 2   work_type_Govt_job              5110 non-null   float64\n",
      " 3   work_type_Never_worked          5110 non-null   float64\n",
      " 4   work_type_Private               5110 non-null   float64\n",
      " 5   work_type_Self-employed         5110 non-null   float64\n",
      " 6   work_type_children              5110 non-null   float64\n",
      " 7   Residence_type_Rural            5110 non-null   float64\n",
      " 8   Residence_type_Urban            5110 non-null   float64\n",
      " 9   smoking_status_Unknown          5110 non-null   float64\n",
      " 10  smoking_status_formerly smoked  5110 non-null   float64\n",
      " 11  smoking_status_never smoked     5110 non-null   float64\n",
      " 12  smoking_status_smokes           5110 non-null   float64\n",
      " 13  gender_Female                   5110 non-null   float64\n",
      " 14  gender_Male                     5110 non-null   float64\n",
      " 15  gender_Other                    5110 non-null   float64\n",
      " 16  hypertension_0                  5110 non-null   float64\n",
      " 17  hypertension_1                  5110 non-null   float64\n",
      " 18  heart_disease_0                 5110 non-null   float64\n",
      " 19  heart_disease_1                 5110 non-null   float64\n",
      "dtypes: float64(20)\n",
      "memory usage: 798.6 KB\n"
     ]
    }
   ],
   "source": [
    "data_cat_ohe.info()"
   ]
  },
  {
   "cell_type": "code",
   "execution_count": 6,
   "id": "3260abc0",
   "metadata": {},
   "outputs": [
    {
     "name": "stdout",
     "output_type": "stream",
     "text": [
      "<class 'pandas.core.frame.DataFrame'>\n",
      "RangeIndex: 5110 entries, 0 to 5109\n",
      "Data columns (total 24 columns):\n",
      " #   Column                          Non-Null Count  Dtype  \n",
      "---  ------                          --------------  -----  \n",
      " 0   age                             5110 non-null   float64\n",
      " 1   avg_glucose_level               5110 non-null   float64\n",
      " 2   bmi                             4909 non-null   float64\n",
      " 3   ever_married_No                 5110 non-null   float64\n",
      " 4   ever_married_Yes                5110 non-null   float64\n",
      " 5   work_type_Govt_job              5110 non-null   float64\n",
      " 6   work_type_Never_worked          5110 non-null   float64\n",
      " 7   work_type_Private               5110 non-null   float64\n",
      " 8   work_type_Self-employed         5110 non-null   float64\n",
      " 9   work_type_children              5110 non-null   float64\n",
      " 10  Residence_type_Rural            5110 non-null   float64\n",
      " 11  Residence_type_Urban            5110 non-null   float64\n",
      " 12  smoking_status_Unknown          5110 non-null   float64\n",
      " 13  smoking_status_formerly smoked  5110 non-null   float64\n",
      " 14  smoking_status_never smoked     5110 non-null   float64\n",
      " 15  smoking_status_smokes           5110 non-null   float64\n",
      " 16  gender_Female                   5110 non-null   float64\n",
      " 17  gender_Male                     5110 non-null   float64\n",
      " 18  gender_Other                    5110 non-null   float64\n",
      " 19  hypertension_0                  5110 non-null   float64\n",
      " 20  hypertension_1                  5110 non-null   float64\n",
      " 21  heart_disease_0                 5110 non-null   float64\n",
      " 22  heart_disease_1                 5110 non-null   float64\n",
      " 23  stroke                          5110 non-null   int64  \n",
      "dtypes: float64(23), int64(1)\n",
      "memory usage: 958.2 KB\n"
     ]
    }
   ],
   "source": [
    "# Combining Numeric features with the OHE Categorical features\n",
    "data_num = data[['age','avg_glucose_level','bmi']]\n",
    "data_res = data['stroke']\n",
    "data_ohe = pd.concat([data_num, data_cat_ohe, data_res], \n",
    "                           sort = False, axis = 1).reindex(index=data_num.index)\n",
    "\n",
    "# Check the final dataframe\n",
    "data_ohe.info()"
   ]
  },
  {
   "cell_type": "code",
   "execution_count": 7,
   "id": "0db66d2f",
   "metadata": {},
   "outputs": [
    {
     "name": "stdout",
     "output_type": "stream",
     "text": [
      "<class 'pandas.core.frame.DataFrame'>\n",
      "RangeIndex: 5110 entries, 0 to 5109\n",
      "Data columns (total 24 columns):\n",
      " #   Column                          Non-Null Count  Dtype  \n",
      "---  ------                          --------------  -----  \n",
      " 0   age                             5110 non-null   float64\n",
      " 1   avg_glucose_level               5110 non-null   float64\n",
      " 2   bmi                             5110 non-null   float64\n",
      " 3   ever_married_No                 5110 non-null   float64\n",
      " 4   ever_married_Yes                5110 non-null   float64\n",
      " 5   work_type_Govt_job              5110 non-null   float64\n",
      " 6   work_type_Never_worked          5110 non-null   float64\n",
      " 7   work_type_Private               5110 non-null   float64\n",
      " 8   work_type_Self-employed         5110 non-null   float64\n",
      " 9   work_type_children              5110 non-null   float64\n",
      " 10  Residence_type_Rural            5110 non-null   float64\n",
      " 11  Residence_type_Urban            5110 non-null   float64\n",
      " 12  smoking_status_Unknown          5110 non-null   float64\n",
      " 13  smoking_status_formerly smoked  5110 non-null   float64\n",
      " 14  smoking_status_never smoked     5110 non-null   float64\n",
      " 15  smoking_status_smokes           5110 non-null   float64\n",
      " 16  gender_Female                   5110 non-null   float64\n",
      " 17  gender_Male                     5110 non-null   float64\n",
      " 18  gender_Other                    5110 non-null   float64\n",
      " 19  hypertension_0                  5110 non-null   float64\n",
      " 20  hypertension_1                  5110 non-null   float64\n",
      " 21  heart_disease_0                 5110 non-null   float64\n",
      " 22  heart_disease_1                 5110 non-null   float64\n",
      " 23  stroke                          5110 non-null   int64  \n",
      "dtypes: float64(23), int64(1)\n",
      "memory usage: 958.2 KB\n"
     ]
    }
   ],
   "source": [
    "data_ohe = data_ohe.fillna(0)\n",
    "data_ohe.info()"
   ]
  },
  {
   "cell_type": "markdown",
   "id": "3ee55323",
   "metadata": {},
   "source": [
    "# Balance the class imbalance of 'Stroke' vs 'No Stroke'"
   ]
  },
  {
   "cell_type": "code",
   "execution_count": 8,
   "id": "e31be5b1",
   "metadata": {},
   "outputs": [
    {
     "data": {
      "text/plain": [
       "1    4861\n",
       "0    4861\n",
       "Name: stroke, dtype: int64"
      ]
     },
     "execution_count": 8,
     "metadata": {},
     "output_type": "execute_result"
    }
   ],
   "source": [
    "dataStroke = data_ohe[data_ohe.stroke == 1]\n",
    "dataNoStroke = data_ohe[data_ohe.stroke == 0]\n",
    " \n",
    "dataStroke_up = resample(dataStroke, \n",
    "                        replace=True,                     # sample with replacement\n",
    "                        n_samples=dataNoStroke.shape[0])    # to match number of Good\n",
    " \n",
    "# Combine the two classes back after upsampling\n",
    "data_ohe_up = pd.concat([dataStroke_up, dataNoStroke])\n",
    " \n",
    "# Check the ratio of the classes\n",
    "data_ohe_up['stroke'].value_counts()"
   ]
  },
  {
   "cell_type": "code",
   "execution_count": 9,
   "id": "4cf165e4",
   "metadata": {},
   "outputs": [
    {
     "name": "stdout",
     "output_type": "stream",
     "text": [
      "<class 'pandas.core.frame.DataFrame'>\n",
      "Int64Index: 9722 entries, 8 to 5109\n",
      "Data columns (total 24 columns):\n",
      " #   Column                          Non-Null Count  Dtype  \n",
      "---  ------                          --------------  -----  \n",
      " 0   age                             9722 non-null   float64\n",
      " 1   avg_glucose_level               9722 non-null   float64\n",
      " 2   bmi                             9722 non-null   float64\n",
      " 3   ever_married_No                 9722 non-null   float64\n",
      " 4   ever_married_Yes                9722 non-null   float64\n",
      " 5   work_type_Govt_job              9722 non-null   float64\n",
      " 6   work_type_Never_worked          9722 non-null   float64\n",
      " 7   work_type_Private               9722 non-null   float64\n",
      " 8   work_type_Self-employed         9722 non-null   float64\n",
      " 9   work_type_children              9722 non-null   float64\n",
      " 10  Residence_type_Rural            9722 non-null   float64\n",
      " 11  Residence_type_Urban            9722 non-null   float64\n",
      " 12  smoking_status_Unknown          9722 non-null   float64\n",
      " 13  smoking_status_formerly smoked  9722 non-null   float64\n",
      " 14  smoking_status_never smoked     9722 non-null   float64\n",
      " 15  smoking_status_smokes           9722 non-null   float64\n",
      " 16  gender_Female                   9722 non-null   float64\n",
      " 17  gender_Male                     9722 non-null   float64\n",
      " 18  gender_Other                    9722 non-null   float64\n",
      " 19  hypertension_0                  9722 non-null   float64\n",
      " 20  hypertension_1                  9722 non-null   float64\n",
      " 21  heart_disease_0                 9722 non-null   float64\n",
      " 22  heart_disease_1                 9722 non-null   float64\n",
      " 23  stroke                          9722 non-null   int64  \n",
      "dtypes: float64(23), int64(1)\n",
      "memory usage: 1.9 MB\n"
     ]
    }
   ],
   "source": [
    "data_ohe_up.info()"
   ]
  },
  {
   "cell_type": "code",
   "execution_count": 10,
   "id": "d0ce5f18",
   "metadata": {},
   "outputs": [],
   "source": [
    "train, test = train_test_split(data_ohe_up, random_state = 42)\n",
    "X_train = train[train.columns[0:21]]\n",
    "y_train = train['stroke']\n",
    "X_test = test[test.columns[0:21]]\n",
    "y_test = test['stroke']"
   ]
  },
  {
   "cell_type": "code",
   "execution_count": 11,
   "id": "e605cec2",
   "metadata": {},
   "outputs": [],
   "source": [
    "scaler = StandardScaler()\n",
    "scaler.fit(X_train)\n",
    "\n",
    "X_train = scaler.transform(X_train)\n",
    "X_test = scaler.transform(X_test)"
   ]
  },
  {
   "cell_type": "code",
   "execution_count": 12,
   "id": "78b78a24",
   "metadata": {},
   "outputs": [
    {
     "data": {
      "text/plain": [
       "MLPClassifier(hidden_layer_sizes=(10, 10, 10), max_iter=1000)"
      ]
     },
     "execution_count": 12,
     "metadata": {},
     "output_type": "execute_result"
    }
   ],
   "source": [
    "MLP = MLPClassifier(hidden_layer_sizes=(10, 10, 10), max_iter = 1000)\n",
    "MLP.fit(X_train, y_train.values.ravel())"
   ]
  },
  {
   "cell_type": "code",
   "execution_count": 13,
   "id": "51d14a64",
   "metadata": {},
   "outputs": [],
   "source": [
    "predictions = MLP.predict(X_test)"
   ]
  },
  {
   "cell_type": "code",
   "execution_count": 14,
   "id": "efa683b9",
   "metadata": {},
   "outputs": [
    {
     "name": "stdout",
     "output_type": "stream",
     "text": [
      "              precision    recall  f1-score   support\n",
      "\n",
      "           0       0.95      0.81      0.87      1190\n",
      "           1       0.84      0.96      0.90      1241\n",
      "\n",
      "    accuracy                           0.89      2431\n",
      "   macro avg       0.90      0.88      0.89      2431\n",
      "weighted avg       0.89      0.89      0.89      2431\n",
      "\n"
     ]
    },
    {
     "data": {
      "image/png": "[encoded data removed]",
      "text/plain": [
       "<Figure size 640x480 with 2 Axes>"
      ]
     },
     "metadata": {},
     "output_type": "display_data"
    }
   ],
   "source": [
    "sb.heatmap(confusion_matrix(y_test, predictions), \n",
    "           annot = True, fmt=\".0f\", annot_kws={\"size\": 18})\n",
    "print(classification_report(y_test,predictions))"
   ]
  },
  {
   "cell_type": "code",
   "execution_count": null,
   "id": "cdcec5b8",
   "metadata": {},
   "outputs": [],
   "source": []
  }
 ],
 "metadata": {
  "kernelspec": {
   "display_name": "Python 3 (ipykernel)",
   "language": "python",
   "name": "python3"
  },
  "language_info": {
   "codemirror_mode": {
    "name": "ipython",
    "version": 3
   },
   "file_extension": ".py",
   "mimetype": "text/x-python",
   "name": "python",
   "nbconvert_exporter": "python",
   "pygments_lexer": "ipython3",
   "version": "3.9.13"
  }
 },
 "nbformat": 4,
 "nbformat_minor": 5
}
